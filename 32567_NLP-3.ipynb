{
 "cells": [
  {
   "cell_type": "markdown",
   "id": "09d73da7",
   "metadata": {},
   "source": [
    "## Harshal Tak\n",
    "## 32567"
   ]
  },
  {
   "cell_type": "markdown",
   "id": "1183335e",
   "metadata": {},
   "source": [
    "### Perform Spelling Correction:\n",
    "Apply minimum edit distance between two strings for spelling correction"
   ]
  },
  {
   "cell_type": "code",
   "execution_count": 4,
   "id": "7d305cb7",
   "metadata": {},
   "outputs": [
    {
     "name": "stdout",
     "output_type": "stream",
     "text": [
      "Minimum edit distance between 'kitten' and 'sitting' is 3\n"
     ]
    }
   ],
   "source": [
    "def min_edit_distance(word1, word2):\n",
    "    m = len(word1)\n",
    "    n = len(word2)\n",
    "    \n",
    "    # Create a matrix to store the edit distances\n",
    "    dp = [[0] * (n + 1) for _ in range(m + 1)]\n",
    "    \n",
    "    # Initialize the first row and column\n",
    "    for i in range(m + 1):\n",
    "        dp[i][0] = i\n",
    "    for j in range(n + 1):\n",
    "        dp[0][j] = j\n",
    "        \n",
    "    # Fill the matrix\n",
    "    for i in range(1, m + 1):\n",
    "        for j in range(1, n + 1):\n",
    "            if word1[i - 1] == word2[j - 1]:\n",
    "                dp[i][j] = dp[i - 1][j - 1]\n",
    "            else:\n",
    "                dp[i][j] = 1 + min(dp[i - 1][j - 1],      # Substitute\n",
    "                                   dp[i][j - 1],          # Insert\n",
    "                                   dp[i - 1][j])          # Delete\n",
    "                \n",
    "    return dp[m][n]\n",
    "\n",
    "# Example usage\n",
    "word1 = \"kitten\"\n",
    "word2 = \"sitting\"\n",
    "distance = min_edit_distance(word1, word2)\n",
    "print(f\"Minimum edit distance between '{word1}' and '{word2}' is {distance}\")\n"
   ]
  },
  {
   "cell_type": "code",
   "execution_count": null,
   "id": "3c180cda",
   "metadata": {},
   "outputs": [],
   "source": []
  }
 ],
 "metadata": {
  "kernelspec": {
   "display_name": "Python 3 (ipykernel)",
   "language": "python",
   "name": "python3"
  },
  "language_info": {
   "codemirror_mode": {
    "name": "ipython",
    "version": 3
   },
   "file_extension": ".py",
   "mimetype": "text/x-python",
   "name": "python",
   "nbconvert_exporter": "python",
   "pygments_lexer": "ipython3",
   "version": "3.9.12"
  }
 },
 "nbformat": 4,
 "nbformat_minor": 5
}
